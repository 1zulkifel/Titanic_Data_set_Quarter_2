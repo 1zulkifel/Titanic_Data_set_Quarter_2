{
 "cells": [
  {
   "cell_type": "code",
   "execution_count": 1,
   "metadata": {},
   "outputs": [],
   "source": [
    "import numpy as np\n",
    "import tensorflow as tf\n",
    "from tensorflow.keras.preprocessing.image import ImageDataGenerator"
   ]
  },
  {
   "cell_type": "code",
   "execution_count": 2,
   "metadata": {},
   "outputs": [],
   "source": [
    "train_data_gen=ImageDataGenerator(rescale=1.0/255)"
   ]
  },
  {
   "cell_type": "code",
   "execution_count": 3,
   "metadata": {},
   "outputs": [
    {
     "name": "stdout",
     "output_type": "stream",
     "text": [
      "Found 10 images belonging to 2 classes.\n"
     ]
    }
   ],
   "source": [
    "train_img=train_data_gen.flow_from_directory(\"./DL_pic\",\n",
    "                                             target_size=(150,150),class_mode=\"binary\",batch_size=2,)"
   ]
  },
  {
   "cell_type": "code",
   "execution_count": 4,
   "metadata": {},
   "outputs": [
    {
     "data": {
      "text/plain": [
       "{'arosh': 0, 'shahir': 1}"
      ]
     },
     "execution_count": 4,
     "metadata": {},
     "output_type": "execute_result"
    }
   ],
   "source": [
    "train_img.class_indices"
   ]
  },
  {
   "cell_type": "code",
   "execution_count": 5,
   "metadata": {},
   "outputs": [],
   "source": [
    "from tensorflow.keras.models import Sequential\n",
    "from tensorflow.keras.layers import Dense\n",
    "from tensorflow.keras.layers import Flatten\n",
    "from tensorflow.keras.optimizers import Adam,SGD"
   ]
  },
  {
   "cell_type": "code",
   "execution_count": 6,
   "metadata": {},
   "outputs": [],
   "source": [
    "model=Sequential()\n",
    "model.add(Flatten())\n",
    "model.add(Dense(500,activation='relu'))\n",
    "model.add(Dense(1,activation='sigmoid'))"
   ]
  },
  {
   "cell_type": "code",
   "execution_count": 8,
   "metadata": {},
   "outputs": [],
   "source": [
    "model.compile(loss='binary_crossentropy',optimizer='Adam',metrics=['acc'] )"
   ]
  },
  {
   "cell_type": "code",
   "execution_count": 18,
   "metadata": {},
   "outputs": [
    {
     "name": "stdout",
     "output_type": "stream",
     "text": [
      "WARNING:tensorflow:sample_weight modes were coerced from\n",
      "  ...\n",
      "    to  \n",
      "  ['...']\n",
      "Train for 5 steps\n",
      "Epoch 1/10\n",
      "5/5 [==============================] - 1s 227ms/step - loss: 4.1114e-06 - acc: 1.0000\n",
      "Epoch 2/10\n",
      "5/5 [==============================] - 1s 227ms/step - loss: 3.8972e-06 - acc: 1.0000\n",
      "Epoch 3/10\n",
      "5/5 [==============================] - 1s 227ms/step - loss: 3.6989e-06 - acc: 1.0000\n",
      "Epoch 4/10\n",
      "5/5 [==============================] - 1s 228ms/step - loss: 3.6142e-06 - acc: 1.0000\n",
      "Epoch 5/10\n",
      "5/5 [==============================] - 1s 228ms/step - loss: 3.5185e-06 - acc: 1.0000\n",
      "Epoch 6/10\n",
      "5/5 [==============================] - 1s 227ms/step - loss: 3.3655e-06 - acc: 1.0000\n",
      "Epoch 7/10\n",
      "5/5 [==============================] - 1s 226ms/step - loss: 3.1957e-06 - acc: 1.0000\n",
      "Epoch 8/10\n",
      "5/5 [==============================] - 1s 229ms/step - loss: 3.1077e-06 - acc: 1.0000\n",
      "Epoch 9/10\n",
      "5/5 [==============================] - 1s 234ms/step - loss: 3.0001e-06 - acc: 1.0000\n",
      "Epoch 10/10\n",
      "5/5 [==============================] - 1s 278ms/step - loss: 2.8857e-06 - acc: 1.0000\n"
     ]
    },
    {
     "data": {
      "text/plain": [
       "<tensorflow.python.keras.callbacks.History at 0x7ff02c79fd10>"
      ]
     },
     "execution_count": 18,
     "metadata": {},
     "output_type": "execute_result"
    }
   ],
   "source": [
    "model.fit(train_img, epochs=10)"
   ]
  },
  {
   "cell_type": "code",
   "execution_count": 15,
   "metadata": {},
   "outputs": [
    {
     "name": "stdout",
     "output_type": "stream",
     "text": [
      "Found 6 images belonging to 2 classes.\n"
     ]
    }
   ],
   "source": [
    "test_gen=ImageDataGenerator(rescale=1.0/255)\n",
    "test_img=test_gen.flow_from_directory(\"./test\",\n",
    "                                             target_size=(150,150),class_mode=\"binary\",batch_size=2,)\n"
   ]
  },
  {
   "cell_type": "code",
   "execution_count": 16,
   "metadata": {},
   "outputs": [
    {
     "data": {
      "text/plain": [
       "array([[1.       ],\n",
       "       [1.       ],\n",
       "       [1.       ],\n",
       "       [1.       ],\n",
       "       [0.9772589],\n",
       "       [1.       ]], dtype=float32)"
      ]
     },
     "execution_count": 16,
     "metadata": {},
     "output_type": "execute_result"
    }
   ],
   "source": [
    "model.predict(test_img)"
   ]
  },
  {
   "cell_type": "code",
   "execution_count": 17,
   "metadata": {},
   "outputs": [
    {
     "data": {
      "text/plain": [
       "array([['shahir'],\n",
       "       ['shahir'],\n",
       "       ['shahir'],\n",
       "       ['shahir'],\n",
       "       ['shahir'],\n",
       "       ['shahir']], dtype='<U6')"
      ]
     },
     "execution_count": 17,
     "metadata": {},
     "output_type": "execute_result"
    }
   ],
   "source": [
    "np.where(model.predict(test_img)>0,'shahir','arosh')"
   ]
  },
  {
   "cell_type": "code",
   "execution_count": null,
   "metadata": {},
   "outputs": [],
   "source": []
  }
 ],
 "metadata": {
  "kernelspec": {
   "display_name": "Python 3",
   "language": "python",
   "name": "python3"
  },
  "language_info": {
   "codemirror_mode": {
    "name": "ipython",
    "version": 3
   },
   "file_extension": ".py",
   "mimetype": "text/x-python",
   "name": "python",
   "nbconvert_exporter": "python",
   "pygments_lexer": "ipython3",
   "version": "3.7.4"
  }
 },
 "nbformat": 4,
 "nbformat_minor": 2
}
